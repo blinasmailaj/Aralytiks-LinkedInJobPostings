{
 "cells": [
  {
   "cell_type": "markdown",
   "metadata": {},
   "source": [
    "##### Ingesting data from CSV's to SQL"
   ]
  },
  {
   "cell_type": "markdown",
   "metadata": {},
   "source": [
    "Reading from .csv files"
   ]
  },
  {
   "cell_type": "code",
   "execution_count": 36,
   "metadata": {},
   "outputs": [],
   "source": [
    "import pandas as pd\n",
    "job_postings = pd.read_csv('data_preprocessed/job_postings.csv')\n",
    "companies = pd.read_csv('data_preprocessed/companies.csv')\n",
    "company_specialities =  pd.read_csv('data_preprocessed/company_specialities.csv')\n",
    "company_industries = pd.read_csv('data_preprocessed/company_industries.csv') \n",
    "employee_count = pd.read_csv('data_preprocessed/employee_counts.csv')\n",
    "job_skills = pd.read_csv('data_preprocessed/job_skills.csv')\n",
    "job_salaries = pd.read_csv('data_preprocessed/job_salaries.csv')"
   ]
  },
  {
   "cell_type": "markdown",
   "metadata": {},
   "source": [
    "Connecting to SQL Server"
   ]
  },
  {
   "cell_type": "code",
   "execution_count": 37,
   "metadata": {},
   "outputs": [],
   "source": [
    "import pyodbc\n",
    "server = 'LAPTOP-3RLVA8MK\\\\SQLEXPRESS'\n",
    "database = 'linkedInJobPostings'\n",
    "connection_string = f'DRIVER={{SQL Server}};SERVER={server};DATABASE={database};Trusted_Connection=yes;'\n",
    "\n",
    "conn = pyodbc.connect(connection_string)\n",
    "cursor = conn.cursor()"
   ]
  },
  {
   "cell_type": "markdown",
   "metadata": {},
   "source": [
    "Inserting dataframes into SQL Server tables"
   ]
  },
  {
   "cell_type": "code",
   "execution_count": 38,
   "metadata": {},
   "outputs": [],
   "source": [
    "def insert_dataframe_into_sql(dataframe, table_name):\n",
    "    columns = list(dataframe.columns)\n",
    "    \n",
    "    placeholders = ','.join(['?' for _ in range(len(columns))])\n",
    "    \n",
    "    sql_query = f\"INSERT INTO {table_name} ({', '.join(columns)}) VALUES ({placeholders})\"\n",
    "    \n",
    "    for index, row in dataframe.iterrows():\n",
    "        values = tuple(row)\n",
    "        \n",
    "        try:\n",
    "            cursor.execute(sql_query, values)\n",
    "        except Exception as e:\n",
    "            print(f\"Error inserting row {index + 2}: {e}\")\n",
    "            print(f\"Values causing the error: {values}\")\n",
    "            continue\n",
    "\n",
    "    conn.commit()"
   ]
  },
  {
   "cell_type": "code",
   "execution_count": 39,
   "metadata": {},
   "outputs": [],
   "source": [
    "insert_dataframe_into_sql(companies, 'companies')"
   ]
  },
  {
   "cell_type": "code",
   "execution_count": 40,
   "metadata": {},
   "outputs": [],
   "source": [
    "insert_dataframe_into_sql(company_industries, 'company_industries')"
   ]
  },
  {
   "cell_type": "code",
   "execution_count": 41,
   "metadata": {},
   "outputs": [],
   "source": [
    "insert_dataframe_into_sql(company_specialities,'company_specialities')"
   ]
  },
  {
   "cell_type": "code",
   "execution_count": 42,
   "metadata": {},
   "outputs": [],
   "source": [
    "insert_dataframe_into_sql(employee_count, 'employee_counts')"
   ]
  },
  {
   "cell_type": "code",
   "execution_count": 43,
   "metadata": {},
   "outputs": [],
   "source": [
    "insert_dataframe_into_sql(job_postings,'job_postings')"
   ]
  },
  {
   "cell_type": "code",
   "execution_count": 44,
   "metadata": {},
   "outputs": [],
   "source": [
    "insert_dataframe_into_sql(job_skills, 'job_skills')"
   ]
  },
  {
   "cell_type": "code",
   "execution_count": 45,
   "metadata": {},
   "outputs": [],
   "source": [
    "insert_dataframe_into_sql(job_salaries, 'salaries')"
   ]
  },
  {
   "cell_type": "code",
   "execution_count": 46,
   "metadata": {},
   "outputs": [],
   "source": [
    "cursor.close()\n",
    "conn.close()"
   ]
  }
 ],
 "metadata": {
  "kernelspec": {
   "display_name": "Python 3",
   "language": "python",
   "name": "python3"
  },
  "language_info": {
   "codemirror_mode": {
    "name": "ipython",
    "version": 3
   },
   "file_extension": ".py",
   "mimetype": "text/x-python",
   "name": "python",
   "nbconvert_exporter": "python",
   "pygments_lexer": "ipython3",
   "version": "3.12.1"
  }
 },
 "nbformat": 4,
 "nbformat_minor": 2
}
