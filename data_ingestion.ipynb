{
 "cells": [
  {
   "cell_type": "markdown",
   "metadata": {},
   "source": [
    "Ingesting data from source to sql schema"
   ]
  },
  {
   "cell_type": "markdown",
   "metadata": {},
   "source": [
    "Reading from .csv files"
   ]
  },
  {
   "cell_type": "code",
   "execution_count": 87,
   "metadata": {},
   "outputs": [],
   "source": [
    "import pandas as pd\n",
    "job_postings = pd.read_csv('data_preprocessed/job_postings.csv')\n",
    "companies = pd.read_csv('data_preprocessed/companies.csv')\n",
    "company_specialities =  pd.read_csv('data_preprocessed/company_specialities.csv')\n",
    "company_industries = pd.read_csv('data_preprocessed/company_industries.csv') \n",
    "employee_count = pd.read_csv('data_preprocessed/employee_counts.csv')\n",
    "job_skills = pd.read_csv('data_preprocessed/job_skills.csv')\n",
    "job_salaries = pd.read_csv('data_preprocessed/job_salaries.csv')"
   ]
  },
  {
   "cell_type": "markdown",
   "metadata": {},
   "source": [
    "Connecting to SQL Server"
   ]
  },
  {
   "cell_type": "code",
   "execution_count": 77,
   "metadata": {},
   "outputs": [],
   "source": [
    "#%pip install pyodbc\n",
    "import pyodbc\n",
    "server = 'LAPTOP-3RLVA8MK\\\\SQLEXPRESS'\n",
    "database = 'linkedin_job_postings_db'\n",
    "connection_string = f'DRIVER={{SQL Server}};SERVER={server};DATABASE={database};Trusted_Connection=yes;'\n",
    "\n",
    "conn = pyodbc.connect(connection_string)\n",
    "cursor = conn.cursor()\n"
   ]
  },
  {
   "cell_type": "markdown",
   "metadata": {},
   "source": [
    "##### Function for inserting dataframes into SQL Server tables"
   ]
  },
  {
   "cell_type": "code",
   "execution_count": 78,
   "metadata": {},
   "outputs": [],
   "source": [
    "def insert_dataframe_into_sql(dataframe, table_name):\n",
    "    columns = list(dataframe.columns)\n",
    "    \n",
    "    placeholders = ','.join(['?' for _ in range(len(columns))])\n",
    "    \n",
    "    sql_query = f\"INSERT INTO {table_name} ({', '.join(columns)}) VALUES ({placeholders})\"\n",
    "    \n",
    "    for _, row in dataframe.iterrows():\n",
    "        values = tuple(row)\n",
    "        cursor.execute(sql_query, values)\n",
    "\n",
    "    conn.commit()"
   ]
  },
  {
   "cell_type": "markdown",
   "metadata": {},
   "source": [
    "Order of inserting data:\n",
    "1. Companies\n",
    "2. Company_Industries\n",
    "3. Company_Specialities\n",
    "4. employee_counts\n",
    "5. job_postings\n",
    "6. job_skills\n",
    "7. salaries"
   ]
  },
  {
   "cell_type": "code",
   "execution_count": 79,
   "metadata": {},
   "outputs": [],
   "source": [
    "insert_dataframe_into_sql(companies, 'companies')"
   ]
  },
  {
   "cell_type": "code",
   "execution_count": 80,
   "metadata": {},
   "outputs": [],
   "source": [
    "insert_dataframe_into_sql(company_industries, 'company_industries')"
   ]
  },
  {
   "cell_type": "code",
   "execution_count": 81,
   "metadata": {},
   "outputs": [],
   "source": [
    "insert_dataframe_into_sql(company_specialities,'company_specialities')"
   ]
  },
  {
   "cell_type": "code",
   "execution_count": 82,
   "metadata": {},
   "outputs": [],
   "source": [
    "insert_dataframe_into_sql(employee_count, 'employee_counts')"
   ]
  },
  {
   "cell_type": "code",
   "execution_count": 83,
   "metadata": {},
   "outputs": [],
   "source": [
    "insert_dataframe_into_sql(job_postings,'job_postings')"
   ]
  },
  {
   "cell_type": "code",
   "execution_count": 84,
   "metadata": {},
   "outputs": [],
   "source": [
    "insert_dataframe_into_sql(job_skills, 'job_skills')"
   ]
  },
  {
   "cell_type": "code",
   "execution_count": 88,
   "metadata": {},
   "outputs": [],
   "source": [
    "insert_dataframe_into_sql(job_salaries, 'salaries')"
   ]
  },
  {
   "cell_type": "code",
   "execution_count": null,
   "metadata": {},
   "outputs": [],
   "source": [
    "cursor.close()\n",
    "conn.close()"
   ]
  }
 ],
 "metadata": {
  "kernelspec": {
   "display_name": "Python 3",
   "language": "python",
   "name": "python3"
  },
  "language_info": {
   "codemirror_mode": {
    "name": "ipython",
    "version": 3
   },
   "file_extension": ".py",
   "mimetype": "text/x-python",
   "name": "python",
   "nbconvert_exporter": "python",
   "pygments_lexer": "ipython3",
   "version": "3.12.1"
  }
 },
 "nbformat": 4,
 "nbformat_minor": 2
}
